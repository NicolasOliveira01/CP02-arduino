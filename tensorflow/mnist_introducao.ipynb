{
 "cells": [
  {
   "cell_type": "code",
   "execution_count": 1,
   "id": "ca3f1704",
   "metadata": {},
   "outputs": [],
   "source": [
    "import tensorflow as tf\n",
    "from tensorflow.keras import layers, models\n",
    "from tensorflow.keras.datasets import mnist\n",
    "import matplotlib.pyplot as plt"
   ]
  },
  {
   "cell_type": "code",
   "execution_count": 2,
   "id": "5a559a77",
   "metadata": {},
   "outputs": [],
   "source": [
    "(x_train, y_train), (x_test, y_test) = mnist.load_data()\n",
    "# x são as imagens (imagens de números) e y são os labels (a resposta, qual número representa a imagem)\n",
    "# x_train (imagens) e y_train (labels) treinam o algoritmo para ele aprender os padrões \n",
    "# x_test (imagens) e y_test (respostas corretas das imagens, não é a resposta do algoritmo) são usados para testar o algoritmo\n",
    "# mnist -> banco de dados de imagens de números escritos com a sua label (resposta correta)\n",
    "# mnist.load_data() -> carrega o banco de dados mnist e quando usado com x_train, y_train, x_test e y_test, ele atribui\n",
    "# imagens (x) e o labels (y) de treino e teste\n",
    "\n",
    "x_train = x_train.reshape(-1, 28, 28, 1) / 255.0\n",
    "x_test = x_test.reshape(-1, 28, 28, 1) / 255.0\n",
    "# reshape -> função do numpy que transforma o array para o formato que a rede esperam (imagem, altura, largura, canal)\n",
    "# -1 -> o numpy calcula automaticamente o número de imagens que estão sendo importadas do mnist ( geralmente 60.000 para \n",
    "# x_train e 10.000 para x_test)\n",
    "# 28, 28 -> altura e largura da imagem (28x28 pixels), cada pixel é um número entre 0 e 255 (branco e preto)\n",
    "# 1 -> indica que a imagem é preto e branco (1 canal), se fosse colorida seriam 3 canais (RGB)\n",
    "# /255 -> normaliza os valores dos pixels (facilita o aprendizado), 0 é branco, 1 é preto e 0,5 é um cinza (meio termo)\n"
   ]
  },
  {
   "cell_type": "code",
   "execution_count": 3,
   "id": "020e04b5",
   "metadata": {},
   "outputs": [
    {
     "name": "stderr",
     "output_type": "stream",
     "text": [
      "c:\\Users\\Nicolas\\Downloads\\tensorflow\\.env\\Lib\\site-packages\\keras\\src\\layers\\convolutional\\base_conv.py:113: UserWarning: Do not pass an `input_shape`/`input_dim` argument to a layer. When using Sequential models, prefer using an `Input(shape)` object as the first layer in the model instead.\n",
      "  super().__init__(activity_regularizer=activity_regularizer, **kwargs)\n"
     ]
    }
   ],
   "source": [
    "model = models.Sequential([\n",
    "# camada entrada:\n",
    "    layers.Conv2D(32, (3, 3), activation='relu', input_shape=(28, 28, 1)),\n",
    "# camada oculta:\n",
    "    layers.MaxPooling2D((2,2)),\n",
    "    layers.Conv2D(64, (3, 3), activation='relu'),\n",
    "    layers.MaxPooling2D((2,2)),\n",
    "    layers.Flatten(),\n",
    "    layers.Dense(128, activation='relu'),\n",
    "# camada saída:\n",
    "    layers.Dense(10, activation='softmax')\n",
    "])\n",
    "# Sequential -> forma de criar uma rede neural, onde as camadas são empilhadas uma em cima da outra, formando uma “pilha” \n",
    "# linear de processamento dos dados\n",
    "\n",
    "# camada de entrada: \n",
    "    # Conv2D (Convolucional 2D) -> processamento de imagens, onde a rede neural aprende a identificar padrões (números) nas imagens. \n",
    "    # 32 -> número de filtros que a camada vai aprender (32 padrões por imagem, como linha, borda, curva). \n",
    "    # (3, 3) -> tamanho do filtro que percorre toda a imagem para extrair padrões. \n",
    "    # activation='relu' -> define a função de ativação, no caso ReLU que ajuda a rede a aprender padrões complexos\n",
    "    # input_shape -> indica o formato da entrada, no caso (28, 28, 1) que é a imagem de entrada (altura, largura e canais)\n",
    "# camada oculta:\n",
    "    # 1 - MaxPooling2D -> adiciona uma camada de pooling (manter apenas as informações mais importantes na imagem), o que ajuda a \n",
    "    # evitar overfitting e acelera o treinamento\n",
    "    # (2,2) -> percorre a imagem com uma janela de 2x2 pixels, mantendo apenas o valor máximo de cada janela\n",
    "    # 2 - Conv2D -> usado novamente para aprender os novos padrões depois do MaxPooling2D, porém agora ele tem 64 filtros \n",
    "    # 3 - MaxPooling2D -> deixa a rede mais eficiente e foca ainda mais nos padrões essenciais\n",
    "    # 4 - Flatten -> Preparar os dados para a camada Dense, durante as camadas convolucionais e de pooling as saídas eram 3D (altura, largura e \n",
    "    # canais) e agora são 1D (dados achatados para uma sequência única de números, como um vetor) que é o formato que o Dense espera\n",
    "    # 5 - Dense ->  combinar e processar os padrões extraídos pela camada oculta e preparando os dados para a saída\n",
    "    # 128 -> número de neurônios que serão processados e cada um aprendendo um padrão diferente\n",
    "    # activation -> define a função de ativação em cada neurônio, no caso ReLU \n",
    "# camada de saída:\n",
    "    # Dense -> camada final que vai gerar a saída da rede neural, no caso 10 neurônios (um para cada número de 0 a 9), cada neurônio representa\n",
    "    # a probabilidade do número da imagem ser aquele número\n",
    "    # activation='softmax' -> transforma a saída desses 10 neurônios em probabilidades, assim o modelo escolhe o dígito com a maior probabilidade\n",
    "\n",
    "model.compile(optimizer='adam',\n",
    "              loss='sparse_categorical_crossentropy',\n",
    "              metrics=['accuracy']\n",
    ")\n",
    "# compile -> define (não chega a treinar) como o modelo vai aprender e avaliar o desempenho durante o treino e validação\n",
    "# optimizer='adam' -> atualiza os pesos e viés (usa o erro medido no loss) para que o algoritmo aprenda a fazer previsões com menos erros\n",
    "# loss='sparse_categorical_crossentropy' -> mede o erro do modelo para ajustar os pesos\n",
    "# metrics['accuracy'] -> mede a acurácia (monitoramento), porcentagem de previsões corretas "
   ]
  },
  {
   "cell_type": "code",
   "execution_count": 4,
   "id": "563f38d8",
   "metadata": {},
   "outputs": [
    {
     "name": "stdout",
     "output_type": "stream",
     "text": [
      "Epoch 1/5\n",
      "\u001b[1m1688/1688\u001b[0m \u001b[32m━━━━━━━━━━━━━━━━━━━━\u001b[0m\u001b[37m\u001b[0m \u001b[1m13s\u001b[0m 7ms/step - accuracy: 0.9009 - loss: 0.3204 - val_accuracy: 0.9838 - val_loss: 0.0552\n",
      "Epoch 2/5\n",
      "\u001b[1m1688/1688\u001b[0m \u001b[32m━━━━━━━━━━━━━━━━━━━━\u001b[0m\u001b[37m\u001b[0m \u001b[1m10s\u001b[0m 6ms/step - accuracy: 0.9858 - loss: 0.0474 - val_accuracy: 0.9888 - val_loss: 0.0401\n",
      "Epoch 3/5\n",
      "\u001b[1m1688/1688\u001b[0m \u001b[32m━━━━━━━━━━━━━━━━━━━━\u001b[0m\u001b[37m\u001b[0m \u001b[1m11s\u001b[0m 7ms/step - accuracy: 0.9907 - loss: 0.0304 - val_accuracy: 0.9905 - val_loss: 0.0341\n",
      "Epoch 4/5\n",
      "\u001b[1m1688/1688\u001b[0m \u001b[32m━━━━━━━━━━━━━━━━━━━━\u001b[0m\u001b[37m\u001b[0m \u001b[1m10s\u001b[0m 6ms/step - accuracy: 0.9930 - loss: 0.0214 - val_accuracy: 0.9905 - val_loss: 0.0331\n",
      "Epoch 5/5\n",
      "\u001b[1m1688/1688\u001b[0m \u001b[32m━━━━━━━━━━━━━━━━━━━━\u001b[0m\u001b[37m\u001b[0m \u001b[1m9s\u001b[0m 5ms/step - accuracy: 0.9948 - loss: 0.0153 - val_accuracy: 0.9907 - val_loss: 0.0355\n"
     ]
    },
    {
     "data": {
      "text/plain": [
       "<keras.src.callbacks.history.History at 0x22b49505bb0>"
      ]
     },
     "execution_count": 4,
     "metadata": {},
     "output_type": "execute_result"
    }
   ],
   "source": [
    "model.fit(x_train, y_train, epochs=5, batch_size=32, validation_split=0.1)\n",
    "# fit -> treina o modelo com os dados de entrada\n",
    "# epochs=5 -> o modelo vai repetir 5 vezes \n",
    "# batch_size=32 -> ao invés de passar todos os dados de uma vez para o modelo, ele vai processar 32 exemplos por vez (treinar de forma mais eficiente)\n",
    "# validation_split=0.1 -> usa 10% do conjunto de treino para validar o modelo (durante o treinamento)"
   ]
  },
  {
   "cell_type": "code",
   "execution_count": 5,
   "id": "0b769d93",
   "metadata": {},
   "outputs": [
    {
     "name": "stdout",
     "output_type": "stream",
     "text": [
      "\u001b[1m313/313\u001b[0m \u001b[32m━━━━━━━━━━━━━━━━━━━━\u001b[0m\u001b[37m\u001b[0m \u001b[1m1s\u001b[0m 2ms/step - accuracy: 0.9886 - loss: 0.0338\n",
      "Acurácia nos dados de teste: 0.9914000034332275\n"
     ]
    }
   ],
   "source": [
    "\n",
    "test_loss, test_acc = model.evaluate(x_test, y_test)\n",
    "print(f\"Acurácia nos dados de teste: {test_acc}\")\n",
    "# evaluate -> passa os dados de teste e calcula o erro e a acurácia (usado depois que o modelo já foi treinado)\n"
   ]
  },
  {
   "cell_type": "code",
   "execution_count": 6,
   "id": "99a80692",
   "metadata": {},
   "outputs": [
    {
     "name": "stdout",
     "output_type": "stream",
     "text": [
      "Conjunto de Treino: 60000 imagens, 60000 rótulos.\n",
      "Conjunto de Teste: 10000 imagens, 10000 rótulos.\n"
     ]
    }
   ],
   "source": [
    "num_train_images = len(x_train)\n",
    "# imagens no conjunto de treino\n",
    "num_train_labels = len(y_train)\n",
    "# rótulos no conjunto de treino\n",
    "num_test_images = len(x_test)\n",
    "# imagens no conjunto de teste\n",
    "num_test_labels = len(y_test)\n",
    "# rótulos no conjunto de treino\n",
    "\n",
    "# Exibir as quantidades\n",
    "print(f\"Conjunto de Treino: {num_train_images} imagens, {num_train_labels} rótulos.\")\n",
    "print(f\"Conjunto de Teste: {num_test_images} imagens, {num_test_labels} rótulos.\")"
   ]
  },
  {
   "cell_type": "code",
   "execution_count": 7,
   "id": "13db9665",
   "metadata": {},
   "outputs": [
    {
     "name": "stdout",
     "output_type": "stream",
     "text": [
      "\u001b[1m1/1\u001b[0m \u001b[32m━━━━━━━━━━━━━━━━━━━━\u001b[0m\u001b[37m\u001b[0m \u001b[1m0s\u001b[0m 94ms/step\n"
     ]
    },
    {
     "data": {
      "image/png": "[encoded data removed]",
      "text/plain": [
       "<Figure size 640x480 with 1 Axes>"
      ]
     },
     "metadata": {},
     "output_type": "display_data"
    }
   ],
   "source": [
    "index = 9000\n",
    "test_image = x_test[index:index+1]\n",
    "# 3D (28, 28, 1) -> 28 de altura e largura em pixels e 1 seria em preto e branco, imagens coloridas em canal 3\n",
    "# 4D (n, 28, 28, 1) -> n é o batch_size (grupo de exemplos usados usado de uma vez só para treinar o modelo)\n",
    "# x_test é um array com várias imagens e se fizer x_test[index] vai retornar no formato 3D, porém o model.predict() espera no formato 4D\n",
    "# por isso está fazendo o [index:index+1] o que seria 9000:9001 (retorna 1 elemento começando pelo index 9000) e o resultado vai ser um 4D\n",
    "# no caso (1, 28, 28, 1)\n",
    "true_label = y_test[index]\n",
    "# y_test[index] -> o label da única imagem que vai ser usada no predict, o x_test e o y_test usados com o mesmo index retornam uma imagem \n",
    "# e a resposta dessa imagem \n",
    "\n",
    "# Fazer a predição com o modelo treinado\n",
    "predicted_probabilities = model.predict(test_image)\n",
    "# neste caso que usou o mnist, o modelo foi treinado para prever imagens com os dígitios de 0 a 9 (10 classes), na saída do modelo (Dense) definiu 10\n",
    "# neurônios (cada um calcula a probabilidade do input pertencer a aquela classe) e o resultado é um array com 10 valores\n",
    "# [0.01, 0.02, 0.00, 0.01, 0.00, 0.00, 0.01, 0.90, 0.02, 0.03] -> se o modelo ve uma imagem como 7\n",
    "predicted_label = predicted_probabilities.argmax()\n",
    "# retorna o índice do array com a maior probabilidade, no caso 7\n",
    "\n",
    "# Exibir a imagem e os resultados\n",
    "plt.imshow(x_test[index].reshape(28, 28), cmap='gray')\n",
    "# imshow -> exibir imagens em formato de array, 2D preto e branco e 3D colorido\n",
    "# x_test[index] -> está selecionando uma única imagem através do index\n",
    "# .reshape(28, 28) -> transforma em um array 2D\n",
    "# cmap='gray -> diz ao imshow para exibir imagens no tom cinza\n",
    "plt.title(f\"Rótulo Verdadeiro: {true_label}\\nRótulo Predito: {predicted_label}\")\n",
    "# true_label -> resposta da imagem escolhida \n",
    "# predicted_label -> a resposta que o algoritmo preveu\n",
    "plt.axis('off')\n",
    "# Esconde as marcações dos eixos X e Y (números, linhas e ticks ao redor da imagem)\n",
    "plt.show() \n",
    "# mostra resultados"
   ]
  }
 ],
 "metadata": {
  "kernelspec": {
   "display_name": ".env",
   "language": "python",
   "name": "python3"
  },
  "language_info": {
   "codemirror_mode": {
    "name": "ipython",
    "version": 3
   },
   "file_extension": ".py",
   "mimetype": "text/x-python",
   "name": "python",
   "nbconvert_exporter": "python",
   "pygments_lexer": "ipython3",
   "version": "3.12.7"
  }
 },
 "nbformat": 4,
 "nbformat_minor": 5
}
